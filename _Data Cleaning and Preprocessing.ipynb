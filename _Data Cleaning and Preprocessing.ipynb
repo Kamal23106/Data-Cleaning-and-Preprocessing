{
 "cells": [
  {
   "cell_type": "code",
   "execution_count": 1,
   "id": "e5b16ddd-9d76-4e5e-8997-4bfe6bf6e012",
   "metadata": {},
   "outputs": [],
   "source": [
    "import pandas as pd\n",
    "import numpy as np"
   ]
  },
  {
   "cell_type": "code",
   "execution_count": 3,
   "id": "84bc2e52-77c0-4ee0-907e-086a19cea8df",
   "metadata": {},
   "outputs": [],
   "source": [
    "Dataset = pd.read_csv(r\"C:\\Dataset\\patient_analyis.csv\", low_memory=False)"
   ]
  },
  {
   "cell_type": "code",
   "execution_count": 7,
   "id": "533138fa-0ed3-4b3e-8b14-10f759dcb605",
   "metadata": {},
   "outputs": [
    {
     "name": "stdout",
     "output_type": "stream",
     "text": [
      "(110527, 15)\n",
      "<class 'pandas.core.frame.DataFrame'>\n",
      "RangeIndex: 110527 entries, 0 to 110526\n",
      "Data columns (total 15 columns):\n",
      " #   Column          Non-Null Count   Dtype  \n",
      "---  ------          --------------   -----  \n",
      " 0   PatientId       110527 non-null  float64\n",
      " 1   AppointmentID   110527 non-null  int64  \n",
      " 2   Gender          110527 non-null  object \n",
      " 3   ScheduledDay    110527 non-null  object \n",
      " 4   AppointmentDay  110527 non-null  object \n",
      " 5   DOB             9581 non-null    object \n",
      " 6   Age             110527 non-null  int64  \n",
      " 7   Neighbourhood   110527 non-null  object \n",
      " 8   Scholarship     110527 non-null  int64  \n",
      " 9   Hipertension    110527 non-null  int64  \n",
      " 10  Diabetes        110527 non-null  int64  \n",
      " 11  Alcoholism      110527 non-null  int64  \n",
      " 12  Handcap         110527 non-null  int64  \n",
      " 13  SMS_received    110527 non-null  int64  \n",
      " 14  No-show         110527 non-null  object \n",
      "dtypes: float64(1), int64(8), object(6)\n",
      "memory usage: 12.6+ MB\n",
      "None\n",
      "      PatientId  AppointmentID Gender          ScheduledDay  \\\n",
      "0  2.987250e+13        5642903      F  2016-04-29T18:38:08Z   \n",
      "1  5.589980e+14        5642503      M  2016-04-29T16:08:27Z   \n",
      "2  4.262960e+12        5642549      F  2016-04-29T16:19:04Z   \n",
      "3  8.679510e+11        5642828      F  2016-04-29T17:29:31Z   \n",
      "4  8.841190e+12        5642494      F  2016-04-29T16:07:23Z   \n",
      "\n",
      "         AppointmentDay         DOB  Age      Neighbourhood  Scholarship  \\\n",
      "0  2016-04-29T00:00:00Z  13/10/1999   62    JARDIM DA PENHA            0   \n",
      "1  2016-04-29T00:00:00Z  13/10/2000   56    JARDIM DA PENHA            0   \n",
      "2  2016-04-29T00:00:00Z  23/10/2001   62      MATA DA PRAIA            0   \n",
      "3  2016-04-29T00:00:00Z  13/10/2002    8  PONTAL DE CAMBURI            0   \n",
      "4  2016-04-29T00:00:00Z   23/2/1987   56    JARDIM DA PENHA            0   \n",
      "\n",
      "   Hipertension  Diabetes  Alcoholism  Handcap  SMS_received No-show  \n",
      "0             1         0           0        0             0      No  \n",
      "1             0         0           0        0             0      No  \n",
      "2             0         0           0        0             0      No  \n",
      "3             0         0           0        0             0      No  \n",
      "4             1         1           0        0             0      No  \n"
     ]
    }
   ],
   "source": [
    "print(Dataset.shape)\n",
    "print(Dataset.info())\n",
    "print(Dataset.head())"
   ]
  },
  {
   "cell_type": "code",
   "execution_count": 11,
   "id": "8969fd0b-8712-4f53-b01d-9eeae68aed5b",
   "metadata": {},
   "outputs": [
    {
     "name": "stdout",
     "output_type": "stream",
     "text": [
      "PatientId              0\n",
      "AppointmentID          0\n",
      "Gender                 0\n",
      "ScheduledDay           0\n",
      "AppointmentDay         0\n",
      "DOB               100946\n",
      "Age                    0\n",
      "Neighbourhood          0\n",
      "Scholarship            0\n",
      "Hipertension           0\n",
      "Diabetes               0\n",
      "Alcoholism             0\n",
      "Handcap                0\n",
      "SMS_received           0\n",
      "No-show                0\n",
      "dtype: int64\n"
     ]
    }
   ],
   "source": [
    "print(Dataset.isnull().sum())"
   ]
  },
  {
   "cell_type": "code",
   "execution_count": 15,
   "id": "99dac278-6a07-47b8-802d-66835153e6a8",
   "metadata": {},
   "outputs": [],
   "source": [
    "Dataset['DOB'] = pd.to_datetime(Dataset['DOB'], errors='coerce', dayfirst=True)"
   ]
  },
  {
   "cell_type": "code",
   "execution_count": 19,
   "id": "1b2191a1-8054-483a-ab3c-9d6f7e723cba",
   "metadata": {},
   "outputs": [],
   "source": [
    "median_dob = Dataset['DOB'].median()\n",
    "Dataset['DOB'] = Dataset['DOB'].fillna(median_dob)"
   ]
  },
  {
   "cell_type": "code",
   "execution_count": 23,
   "id": "267649d4-00c1-4e50-a80d-0daa6829c9e7",
   "metadata": {},
   "outputs": [
    {
     "name": "stdout",
     "output_type": "stream",
     "text": [
      "Total duplicate rows: 0\n"
     ]
    }
   ],
   "source": [
    "duplicate_rows = Dataset[Dataset.duplicated()]\n",
    "print(f\"Total duplicate rows: {duplicate_rows.shape[0]}\")"
   ]
  },
  {
   "cell_type": "code",
   "execution_count": 27,
   "id": "d405e40f-1a86-440b-b144-5c09177e4d65",
   "metadata": {},
   "outputs": [],
   "source": [
    "Dataset= Dataset.drop_duplicates()"
   ]
  },
  {
   "cell_type": "code",
   "execution_count": 31,
   "id": "71fd8efa-3b6f-4a13-930e-b7715c9db809",
   "metadata": {},
   "outputs": [],
   "source": [
    "Dataset['Gender'] = Dataset['Gender'].str.strip().str.lower()"
   ]
  },
  {
   "cell_type": "code",
   "execution_count": 35,
   "id": "10b34240-15d1-457b-815a-e313e6540cf8",
   "metadata": {},
   "outputs": [],
   "source": [
    "Dataset['ScheduledDay'] = pd.to_datetime(Dataset['ScheduledDay'], errors='coerce')\n",
    "Dataset['AppointmentDay'] = pd.to_datetime(Dataset['AppointmentDay'], errors='coerce')\n",
    "Dataset['DOB'] = pd.to_datetime(Dataset['DOB'], errors='coerce', dayfirst=True)\n"
   ]
  },
  {
   "cell_type": "code",
   "execution_count": 37,
   "id": "d4f429b4-3d0f-4415-b002-5de809606cb3",
   "metadata": {},
   "outputs": [],
   "source": [
    "Dataset.columns = Dataset.columns.str.strip().str.lower().str.replace('-', '_').str.replace(' ', '_')"
   ]
  },
  {
   "cell_type": "code",
   "execution_count": 43,
   "id": "98a33e62-1717-4a58-be6e-7971f96a1617",
   "metadata": {},
   "outputs": [],
   "source": [
    "Dataset['age'] = Dataset['age'].astype(int)"
   ]
  },
  {
   "cell_type": "code",
   "execution_count": 47,
   "id": "f4ba0cb6-289c-4bd6-acf6-34b7dd8c2924",
   "metadata": {},
   "outputs": [
    {
     "data": {
      "text/plain": [
       "(      patientid  appointmentid gender              scheduledday  \\\n",
       " 0  2.987250e+13        5642903      f 2016-04-29 18:38:08+00:00   \n",
       " 1  5.589980e+14        5642503      m 2016-04-29 16:08:27+00:00   \n",
       " 2  4.262960e+12        5642549      f 2016-04-29 16:19:04+00:00   \n",
       " 3  8.679510e+11        5642828      f 2016-04-29 17:29:31+00:00   \n",
       " 4  8.841190e+12        5642494      f 2016-04-29 16:07:23+00:00   \n",
       " \n",
       "              appointmentday        dob  age      neighbourhood  scholarship  \\\n",
       " 0 2016-04-29 00:00:00+00:00 1999-10-13   62    JARDIM DA PENHA            0   \n",
       " 1 2016-04-29 00:00:00+00:00 2000-10-13   56    JARDIM DA PENHA            0   \n",
       " 2 2016-04-29 00:00:00+00:00 2001-10-23   62      MATA DA PRAIA            0   \n",
       " 3 2016-04-29 00:00:00+00:00 2002-10-13    8  PONTAL DE CAMBURI            0   \n",
       " 4 2016-04-29 00:00:00+00:00 1987-02-23   56    JARDIM DA PENHA            0   \n",
       " \n",
       "    hipertension  diabetes  alcoholism  handcap  sms_received no_show  \n",
       " 0             1         0           0        0             0      No  \n",
       " 1             0         0           0        0             0      No  \n",
       " 2             0         0           0        0             0      No  \n",
       " 3             0         0           0        0             0      No  \n",
       " 4             1         1           0        0             0      No  ,\n",
       " patientid         0\n",
       " appointmentid     0\n",
       " gender            0\n",
       " scheduledday      0\n",
       " appointmentday    0\n",
       " dob               0\n",
       " age               0\n",
       " neighbourhood     0\n",
       " scholarship       0\n",
       " hipertension      0\n",
       " diabetes          0\n",
       " alcoholism        0\n",
       " handcap           0\n",
       " sms_received      0\n",
       " no_show           0\n",
       " dtype: int64,\n",
       " patientid                     float64\n",
       " appointmentid                   int64\n",
       " gender                         object\n",
       " scheduledday      datetime64[ns, UTC]\n",
       " appointmentday    datetime64[ns, UTC]\n",
       " dob                    datetime64[ns]\n",
       " age                             int32\n",
       " neighbourhood                  object\n",
       " scholarship                     int64\n",
       " hipertension                    int64\n",
       " diabetes                        int64\n",
       " alcoholism                      int64\n",
       " handcap                         int64\n",
       " sms_received                    int64\n",
       " no_show                        object\n",
       " dtype: object)"
      ]
     },
     "execution_count": 47,
     "metadata": {},
     "output_type": "execute_result"
    }
   ],
   "source": [
    "null_summary = Dataset.isnull().sum()\n",
    "data_types = Dataset.dtypes\n",
    "Dataset.head(), null_summary, data_types"
   ]
  },
  {
   "cell_type": "code",
   "execution_count": null,
   "id": "45fc8158-d578-4b77-8ba3-15469eaf3a72",
   "metadata": {},
   "outputs": [],
   "source": []
  }
 ],
 "metadata": {
  "kernelspec": {
   "display_name": "Python [conda env:base] *",
   "language": "python",
   "name": "conda-base-py"
  },
  "language_info": {
   "codemirror_mode": {
    "name": "ipython",
    "version": 3
   },
   "file_extension": ".py",
   "mimetype": "text/x-python",
   "name": "python",
   "nbconvert_exporter": "python",
   "pygments_lexer": "ipython3",
   "version": "3.12.7"
  }
 },
 "nbformat": 4,
 "nbformat_minor": 5
}
